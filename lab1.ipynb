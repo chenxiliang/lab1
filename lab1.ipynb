{
 "cells": [
  {
   "cell_type": "code",
   "execution_count": 9,
   "metadata": {
    "collapsed": false
   },
   "outputs": [],
   "source": [
    "'''\n",
    "Created on Jul 17, 2016\n",
    "\n",
    "@author: greg gagne\n",
    "'''\n",
    "\n",
    "'''\n",
    "Generate the fibonacci sequence of specified size\n",
    "\n",
    "This version has errors that are to be detected using unit tests\n",
    "'''\n",
    "def fibonacci(size):\n",
    "    # creates an empty list\n",
    "    sequence = []\n",
    "    \n",
    "    if size == 0:\n",
    "        pass\n",
    "    elif size == 1:\n",
    "        sequence = [0] \n",
    "        # test this\n",
    "    else:\n",
    "        # add the first two values to the list\n",
    "        sequence.append(0)\n",
    "        sequence.append(1)\n",
    "        count = 2\n",
    "        \n",
    "        while count < size:\n",
    "            sequence.append(sequence[count-1] + sequence[count-2])\n",
    "            count += 1\n",
    "            \n",
    "    return sequence\n",
    "    "
   ]
  },
  {
   "cell_type": "code",
   "execution_count": 13,
   "metadata": {
    "collapsed": false
   },
   "outputs": [
    {
     "name": "stderr",
     "output_type": "stream",
     "text": [
      ".\n",
      "----------------------------------------------------------------------\n",
      "Ran 1 test in 0.002s\n",
      "\n",
      "OK\n"
     ]
    },
    {
     "data": {
      "text/plain": [
       "<unittest.main.TestProgram at 0x3f996a0>"
      ]
     },
     "execution_count": 13,
     "metadata": {},
     "output_type": "execute_result"
    }
   ],
   "source": [
    "'''\n",
    "Created on Jul 17, 2016\n",
    "\n",
    "@author: greg\n",
    "'''\n",
    "import unittest\n",
    "\n",
    "#import Fibonacci\n",
    "\n",
    "class Test(unittest.TestCase):\n",
    "    def testFib(self):\n",
    "        # sequence of size 0\n",
    "        sequence = []\n",
    "        self.assertEquals(sequence,fibonacci(0))\n",
    "        \n",
    "        # sequence of size 1\n",
    "        sequence = [0]     \n",
    "        self.assertEquals(sequence,fibonacci(1))\n",
    "        \n",
    "        # sequence of size 2\n",
    "        sequence = [0,1]\n",
    "        self.assertEquals(sequence,fibonacci(2))\n",
    "        \n",
    "        # sequence of size > 2\n",
    "        sequence = [0,1,1,2,3,5]\n",
    "        self.assertEquals(sequence,fibonacci(6))\n",
    "\n",
    "unittest.main(argv=['first-arg-is-ignored'], exit=False)"
   ]
  }
 ],
 "metadata": {
  "anaconda-cloud": {},
  "kernelspec": {
   "display_name": "Python [Root]",
   "language": "python",
   "name": "Python [Root]"
  },
  "language_info": {
   "codemirror_mode": {
    "name": "ipython",
    "version": 2
   },
   "file_extension": ".py",
   "mimetype": "text/x-python",
   "name": "python",
   "nbconvert_exporter": "python",
   "pygments_lexer": "ipython2",
   "version": "2.7.12"
  }
 },
 "nbformat": 4,
 "nbformat_minor": 0
}
